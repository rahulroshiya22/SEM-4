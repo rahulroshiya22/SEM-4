{
 "cells": [
  {
   "cell_type": "markdown",
   "metadata": {},
   "source": [
    "<a href='https://www.darshan.ac.in/'> <img src='https://www.darshan.ac.in/Content/media/DU_Logo.svg' width=\"250\" height=\"10\"/></a>\n",
    "<pre>\n",
    "<center><b><h1>Python Programming-2301CS404</b></center>\n",
    "<center><b><h1>Lab - 13_B</b></center>\n",
    "<center><b><h1>Roshiya Rahul</b></center> \n",
    "<center><b><h1>23010101230</b></center>\n",
    "<center><b><h1>283</b></center>\n",
    "\n",
    "<pre>"
   ]
  },
  {
   "cell_type": "markdown",
   "metadata": {},
   "source": [
    "## Continued.."
   ]
  },
  {
   "cell_type": "markdown",
   "metadata": {},
   "source": [
    "### 10) Calculate area of a ractangle using object as an argument to a method."
   ]
  },
  {
   "cell_type": "code",
   "execution_count": 20,
   "metadata": {},
   "outputs": [
    {
     "name": "stdout",
     "output_type": "stream",
     "text": [
      "Area of rectangle: 70\n"
     ]
    }
   ],
   "source": [
    "class Rectangle:\n",
    "    def __init__(self, length, width):\n",
    "        self.length = length\n",
    "        self.width = width\n",
    "\n",
    "    def calculate_area(self):\n",
    "        return self.length * self.width\n",
    "\n",
    "rect = Rectangle(10, 7)\n",
    "\n",
    "def get_area(rectangle):\n",
    "    return rectangle.calculate_area()\n",
    "\n",
    "area = get_area(rect)\n",
    "print(\"Area of rectangle:\", area)"
   ]
  },
  {
   "cell_type": "markdown",
   "metadata": {},
   "source": [
    "### 11) Calculate the area of a square. \n",
    "### Include a Constructor, a method to calculate area named area() and a method named output() that prints the output and is invoked by area()."
   ]
  },
  {
   "cell_type": "code",
   "execution_count": 7,
   "metadata": {},
   "outputs": [
    {
     "name": "stdout",
     "output_type": "stream",
     "text": [
      "The area of squuare is:100\n"
     ]
    }
   ],
   "source": [
    "class Square:\n",
    "    def __init__(self, length):\n",
    "        self.length = length\n",
    "\n",
    "    def area(self):\n",
    "        area=self.length**2\n",
    "        self.output(area)\n",
    "\n",
    "    def output(self,area):\n",
    "        print(f\"The area of squuare is:{area}\")\n",
    "\n",
    "square=Square(10)\n",
    "square.area()"
   ]
  },
  {
   "cell_type": "markdown",
   "metadata": {},
   "source": [
    "### 12) Calculate the area of a rectangle. \n",
    "### Include a Constructor, a method to calculate area named area() and a method named output() that prints the output and is invoked by area().\n",
    "### Also define a class method that compares the two sides of reactangle. An object is instantiated only if the two sides are different; otherwise a message should be displayed : THIS IS SQUARE."
   ]
  },
  {
   "cell_type": "code",
   "execution_count": 21,
   "metadata": {},
   "outputs": [
    {
     "name": "stdout",
     "output_type": "stream",
     "text": [
      "The area of the rectangle is: 50\n",
      "This is a rectangle!!\n",
      "THIS IS SQUARE!!\n"
     ]
    }
   ],
   "source": [
    "class Rectangle:\n",
    "    def __init__(self, length, width):\n",
    "        if length == width:\n",
    "            print(\"THIS IS SQUARE\")\n",
    "            self.length = None\n",
    "            self.width = None\n",
    "        else:\n",
    "            self.length = length\n",
    "            self.width = width\n",
    "\n",
    "    def area(self):\n",
    "        if self.length and self.width:\n",
    "            area = self.length * self.width\n",
    "            self.output(area)\n",
    "        else:\n",
    "            print(\"Cannot calculate area for a square object.\")\n",
    "\n",
    "    def output(self, area):\n",
    "        print(f\"The area of the rectangle is: {area}\")\n",
    "\n",
    "    @classmethod\n",
    "    def compare_sides(cls, length, width):\n",
    "        if length == width:\n",
    "            print(\"THIS IS SQUARE!!\")\n",
    "        else:\n",
    "            print(\"This is a rectangle!!\")\n",
    "\n",
    "rect1 = Rectangle(10, 5)\n",
    "\n",
    "if rect1.length and rect1.width:\n",
    "    rect1.area()\n",
    "\n",
    "Rectangle.compare_sides(10, 5)\n",
    "Rectangle.compare_sides(5, 5)"
   ]
  },
  {
   "cell_type": "markdown",
   "metadata": {},
   "source": [
    "### 13) Define a class Square having a private attribute \"side\". \n",
    "### Implement get_side and set_side methods to accees the private attribute from outside of the class."
   ]
  },
  {
   "cell_type": "code",
   "execution_count": 25,
   "metadata": {},
   "outputs": [
    {
     "name": "stdout",
     "output_type": "stream",
     "text": [
      "Side of square: 5\n",
      "New side of square: 10\n",
      "Area of square: 100\n"
     ]
    }
   ],
   "source": [
    "class Square:\n",
    "    def __init__(self, side):\n",
    "        self.__side = side\n",
    "\n",
    "    def get_side(self):\n",
    "        return self.__side\n",
    "\n",
    "    def set_side(self, side):\n",
    "        if side > 0:\n",
    "            self.__side = side\n",
    "        else:\n",
    "            print(\"Side length must be a positive number!\")\n",
    "\n",
    "    def area(self):\n",
    "        return self.__side ** 2\n",
    "\n",
    "square = Square(5)\n",
    "print(\"Side of square:\", square.get_side())\n",
    "square.set_side(10)\n",
    "print(\"New side of square:\", square.get_side())\n",
    "print(\"Area of square:\", square.area())"
   ]
  },
  {
   "cell_type": "markdown",
   "metadata": {},
   "source": [
    "### 14) Create a class Profit that has a method named getProfit that accepts profit from the user.\n",
    "### Create a class Loss that has a method named getLoss that accepts loss from the user.\n",
    "### Create a class BalanceSheet that inherits from both classes Profit and Loss and calculates the balanace. It has two methods getBalance() and printBalance()."
   ]
  },
  {
   "cell_type": "code",
   "execution_count": 55,
   "metadata": {},
   "outputs": [
    {
     "name": "stdin",
     "output_type": "stream",
     "text": [
      "Enter profit: 100000000\n",
      "Enter loss: 5\n"
     ]
    },
    {
     "name": "stdout",
     "output_type": "stream",
     "text": [
      "Profit: 100000000.0\n",
      "Loss: 5.0\n",
      "Balance: 99999995.0\n"
     ]
    }
   ],
   "source": [
    "class Profit:\n",
    "    def __init__(self):\n",
    "        self.profit=0\n",
    "    def getProfit(self):\n",
    "        self.profit=float(input(\"Enter profit:\"))\n",
    "\n",
    "class Loss:\n",
    "    def __init__(self):\n",
    "        self.loss=0\n",
    "    def getLoss(self):\n",
    "        self.loss=float(input(\"Enter loss:\"))\n",
    "\n",
    "class Balance_sheet(Profit,Loss):\n",
    "    def __init__(self):\n",
    "        Profit.__init__(self)\n",
    "        Loss.__init__(self)\n",
    "        self.balance = 0\n",
    "\n",
    "    def getBalance(self):\n",
    "        self.balance = self.profit - self.loss\n",
    "    \n",
    "    def printBalance(self):\n",
    "        print(f\"Profit: {self.profit}\")\n",
    "        print(f\"Loss: {self.loss}\")\n",
    "        print(f\"Balance: {self.balance}\")\n",
    "\n",
    "balance_sheet=Balance_sheet()\n",
    "balance_sheet.getProfit()\n",
    "balance_sheet.getLoss()\n",
    "balance_sheet.getBalance()\n",
    "balance_sheet.printBalance()"
   ]
  },
  {
   "attachments": {},
   "cell_type": "markdown",
   "metadata": {},
   "source": [
    "### 15) WAP to demonstrate all types of inheritance."
   ]
  },
  {
   "cell_type": "code",
   "execution_count": 69,
   "metadata": {},
   "outputs": [
    {
     "name": "stdout",
     "output_type": "stream",
     "text": [
      "Single Inheritance:\n",
      "Animal speaks\n",
      "Dog barks\n",
      "\n",
      "Multiple Inheritance:\n",
      "Hello, my name is ABC\n",
      "My employee ID is 101\n",
      "ABC is working as a Manager.\n",
      "\n",
      "Multilevel Inheritance:\n",
      "Vehicle engine started\n",
      "Car is driving\n",
      "Sports car is speeding\n",
      "\n",
      "Hierarchical Inheritance:\n",
      "Circle Area: 78.5\n",
      "Rectangle Area: 50\n",
      "\n",
      "Hybrid Inheritance:\n",
      "School Name: DEF\n",
      "Teaching Maths\n",
      "ABC manages the teaching process.\n"
     ]
    }
   ],
   "source": [
    "# Single Inheritance\n",
    "class Animal:\n",
    "    def speak(self):\n",
    "        print(\"Animal speaks\")\n",
    "\n",
    "class Dog(Animal):\n",
    "    def bark(self):\n",
    "        print(\"Dog barks\")\n",
    "\n",
    "# Multiple Inheritance\n",
    "class Person:\n",
    "    def __init__(self, name):\n",
    "        self.name = name\n",
    "    \n",
    "    def introduce(self):\n",
    "        print(f\"Hello, my name is {self.name}\")\n",
    "\n",
    "class Employee:\n",
    "    def __init__(self, employee_id):\n",
    "        self.employee_id = employee_id\n",
    "\n",
    "    def show_id(self):\n",
    "        print(f\"My employee ID is {self.employee_id}\")\n",
    "\n",
    "class Manager(Person, Employee):\n",
    "    def __init__(self, name, employee_id):\n",
    "        Person.__init__(self, name)\n",
    "        Employee.__init__(self, employee_id)\n",
    "    \n",
    "    def work(self):\n",
    "        print(f\"{self.name} is working as a Manager.\")\n",
    "\n",
    "# Multilevel Inheritance\n",
    "class Vehicle:\n",
    "    def start_engine(self):\n",
    "        print(\"Vehicle engine started\")\n",
    "\n",
    "class Car(Vehicle):\n",
    "    def drive(self):\n",
    "        print(\"Car is driving\")\n",
    "\n",
    "class SportsCar(Car):\n",
    "    def speed(self):\n",
    "        print(\"Sports car is speeding\")\n",
    "\n",
    "# Hierarchical Inheritance\n",
    "class Shape:\n",
    "    def area(self):\n",
    "        pass\n",
    "\n",
    "class Circle(Shape):\n",
    "    def area(self, radius):\n",
    "        return 3.14 * radius * radius\n",
    "\n",
    "class Rectangle(Shape):\n",
    "    def area(self, length, width):\n",
    "        return length * width\n",
    "\n",
    "# Hybrid Inheritance (Combination of Multiple and Multilevel Inheritance)\n",
    "class School:\n",
    "    def __init__(self, name):\n",
    "        self.name = name\n",
    "\n",
    "    def show_name(self):\n",
    "        print(f\"School Name: {self.name}\")\n",
    "\n",
    "class Teacher(School):\n",
    "    def __init__(self, name, subject):\n",
    "        School.__init__(self, name)\n",
    "        self.subject = subject\n",
    "\n",
    "    def teach(self):\n",
    "        print(f\"Teaching {self.subject}\")\n",
    "\n",
    "class HeadTeacher(Teacher):\n",
    "    def __init__(self, name, subject, head_teacher_name):\n",
    "        Teacher.__init__(self, name, subject)\n",
    "        self.head_teacher_name = head_teacher_name\n",
    "\n",
    "    def manage(self):\n",
    "        print(f\"{self.head_teacher_name} manages the teaching process.\")\n",
    "\n",
    "\n",
    "# 1. Single Inheritance\n",
    "print(\"Single Inheritance:\")\n",
    "dog = Dog()\n",
    "dog.speak()\n",
    "dog.bark()\n",
    "print()\n",
    "\n",
    "# 2. Multiple Inheritance\n",
    "print(\"Multiple Inheritance:\")\n",
    "manager = Manager(\"ABC\", 101)\n",
    "manager.introduce()\n",
    "manager.show_id()\n",
    "manager.work()\n",
    "print()\n",
    "\n",
    "# 3. Multilevel Inheritance\n",
    "print(\"Multilevel Inheritance:\")\n",
    "sports_car = SportsCar()\n",
    "sports_car.start_engine()\n",
    "sports_car.drive()\n",
    "sports_car.speed()\n",
    "print()\n",
    "\n",
    "# 4. Hierarchical Inheritance\n",
    "print(\"Hierarchical Inheritance:\")\n",
    "circle = Circle()\n",
    "print(f\"Circle Area: {circle.area(5)}\")\n",
    "rectangle = Rectangle()\n",
    "print(f\"Rectangle Area: {rectangle.area(10, 5)}\")\n",
    "print()\n",
    "\n",
    "# 5. Hybrid Inheritance\n",
    "print(\"Hybrid Inheritance:\")\n",
    "head_teacher = HeadTeacher(\"DEF\", \"Maths\", \"ABC\")\n",
    "head_teacher.show_name()\n",
    "head_teacher.teach()\n",
    "head_teacher.manage()"
   ]
  },
  {
   "cell_type": "markdown",
   "metadata": {},
   "source": [
    "### 16) Create a Person class with a constructor that takes two arguments name and age. \n",
    "### Create a child class Employee that inherits from Person and adds a new attribute salary. \n",
    "### Override the __init__ method in Employee to call the parent class's __init__ method using the super() and then initialize the salary attribute."
   ]
  },
  {
   "cell_type": "code",
   "execution_count": 71,
   "metadata": {},
   "outputs": [
    {
     "name": "stdout",
     "output_type": "stream",
     "text": [
      "Name: ABC\n",
      "Age: 30\n",
      "Salary: 50000\n"
     ]
    }
   ],
   "source": [
    "class Person:\n",
    "    def __init__(self, name, age):\n",
    "        self.name = name\n",
    "        self.age = age\n",
    "\n",
    "    def display_info(self):\n",
    "        print(f\"Name: {self.name}\")\n",
    "        print(f\"Age: {self.age}\")\n",
    "\n",
    "class Employee(Person):\n",
    "    def __init__(self, name, age, salary):\n",
    "        super().__init__(name, age)\n",
    "        self.salary = salary\n",
    "\n",
    "    def display_employee_info(self):\n",
    "        self.display_info()\n",
    "        print(f\"Salary: {self.salary}\")\n",
    "\n",
    "emp = Employee(\"ABC\", 30, 50000)\n",
    "emp.display_employee_info()"
   ]
  },
  {
   "cell_type": "markdown",
   "metadata": {},
   "source": [
    "### 17) Create a Shape class with a draw method that is not implemented. \n",
    "### Create three child classes Rectangle, Circle, and Triangle that implement the draw method with their respective drawing behaviors. \n",
    "### Create a list of Shape objects that includes one instance of each child class, and then iterate through the list and call the draw method on each object."
   ]
  },
  {
   "cell_type": "code",
   "execution_count": 73,
   "metadata": {},
   "outputs": [
    {
     "name": "stdout",
     "output_type": "stream",
     "text": [
      "Drawing a rectangle\n",
      "Drawing a circle\n",
      "Drawing a triangle\n"
     ]
    }
   ],
   "source": [
    "from abc import ABC, abstractmethod\n",
    "\n",
    "class Shape(ABC):\n",
    "    @abstractmethod\n",
    "    def draw(self):\n",
    "        pass\n",
    "\n",
    "class Rectangle(Shape):\n",
    "    def draw(self):\n",
    "        print(\"Drawing a rectangle\")\n",
    "\n",
    "class Circle(Shape):\n",
    "    def draw(self):\n",
    "        print(\"Drawing a circle\")\n",
    "\n",
    "class Triangle(Shape):\n",
    "    def draw(self):\n",
    "        print(\"Drawing a triangle\")\n",
    "\n",
    "shapes = [Rectangle(), Circle(), Triangle()]\n",
    "\n",
    "for shape in shapes:\n",
    "    shape.draw()"
   ]
  },
  {
   "cell_type": "code",
   "execution_count": null,
   "metadata": {},
   "outputs": [],
   "source": []
  }
 ],
 "metadata": {
  "kernelspec": {
   "display_name": "Python 3 (ipykernel)",
   "language": "python",
   "name": "python3"
  },
  "language_info": {
   "codemirror_mode": {
    "name": "ipython",
    "version": 3
   },
   "file_extension": ".py",
   "mimetype": "text/x-python",
   "name": "python",
   "nbconvert_exporter": "python",
   "pygments_lexer": "ipython3",
   "version": "3.12.7"
  }
 },
 "nbformat": 4,
 "nbformat_minor": 4
}
